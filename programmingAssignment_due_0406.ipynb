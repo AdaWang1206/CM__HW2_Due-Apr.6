{
 "cells": [
  {
   "cell_type": "markdown",
   "id": "fcbb92d0",
   "metadata": {},
   "source": [
    "# Gradiant decent method\n",
    "### Write a program to compute the first 10 iterations for solving the following system of equations using gradient descent algorithm:\n",
    "$\\begin{bmatrix}3 & 2\\\\2 & 6\n",
    "\\end{bmatrix}{\\bf x} = \\begin{bmatrix}2\\\\-8\n",
    "\\end{bmatrix}, \\quad {\\bf x}^{(0)}=\\begin{bmatrix}-2\\\\-2\n",
    "\\end{bmatrix}.$\n"
   ]
  },
  {
   "cell_type": "markdown",
   "id": "e5933e35",
   "metadata": {},
   "source": [
    "=====\n",
    "### Provide two files:\n",
    "* Source code\n",
    "* pdf: 10 iteration steps on xy plane"
   ]
  },
  {
   "cell_type": "code",
   "execution_count": 11,
   "id": "4b6035f4",
   "metadata": {},
   "outputs": [],
   "source": [
    "import numpy as np\n",
    "from numpy import linalg as LA\n",
    "import matplotlib.pyplot as plt"
   ]
  },
  {
   "cell_type": "code",
   "execution_count": 12,
   "id": "a8006262",
   "metadata": {},
   "outputs": [],
   "source": [
    "### functions def\n",
    "def make_r(A,b,x):\n",
    "    newr=b-A.dot(x)\n",
    "    return newr\n",
    "\n",
    "def make_lamda(A,r):\n",
    "    rT=np.transpose(r)\n",
    "    rTA=rT.dot(A)\n",
    "    newlamda=float((rT.dot(r)))/rTA.dot(r)\n",
    "    \n",
    "    return newlamda"
   ]
  },
  {
   "cell_type": "code",
   "execution_count": 13,
   "id": "533d819b",
   "metadata": {},
   "outputs": [],
   "source": [
    "### main function\n",
    "def gradientDecent(A,b,x0):\n",
    "    \n",
    "    # iteration times\n",
    "    iteration=10\n",
    "    \n",
    "    # initial value: x0, r0, lamda0\n",
    "    r_value=np.zeros(shape=(11,2,1))\n",
    "    lamda_value=np.zeros(shape=11)\n",
    "    #print(x_value)\n",
    "    #print('=====')\n",
    "    #print(r_value)\n",
    "    #print('=====')\n",
    "    #print(lamda_value)\n",
    "    #print('============================')\n",
    "    #print(lamda_value[0]*r_value[0])\n",
    "    \n",
    "    \n",
    "    # iteration part\n",
    "    for i in range(11):\n",
    "        #print('iter = ',i)\n",
    "        if i==0:\n",
    "            x_value[i]=x0\n",
    "        else:\n",
    "            #print('last x: ',x_value[i-1])\n",
    "            #print('last r: ',r_value[i-1])\n",
    "            #print('last lamda: ',lamda_value[i-1])\n",
    "            x_value[i]=x_value[i-1]+lamda_value[i-1]*r_value[i-1]\n",
    "        r_value[i]=make_r(A,b,x_value[i])\n",
    "        lamda_value[i]=make_lamda(A,r_value[i])\n",
    "        \n",
    "        \n",
    "        #print('x =',x_value[i])\n",
    "        #print('---')\n",
    "    \n",
    "    #check part\n",
    "    #print('========')\n",
    "    #print('========')\n",
    "    #print('========')\n",
    "    #print(x_value)\n",
    "    #print(r_value)\n",
    "    #print(lamda_value)\n",
    "\n",
    "    return x_value"
   ]
  },
  {
   "cell_type": "code",
   "execution_count": 20,
   "id": "4e012e5c",
   "metadata": {},
   "outputs": [],
   "source": [
    "## draw\n",
    "def draw(x_value):\n",
    "    fig = plt.figure()\n",
    "    ax = fig.add_subplot(111)\n",
    "\n",
    "    x, y = zip(*x_value)\n",
    "    plt.plot(x, y)\n",
    "    plt.scatter(x, y)\n",
    "\n",
    "    ax.axis('equal')\n",
    "    plt.title('Gradient decent method')\n",
    "    plt.xlabel(\"x\")\n",
    "    plt.ylabel(\"x_value\")\n",
    "    plt.grid(True)\n",
    "    \n",
    "\n",
    "    plt.show()\n",
    "    return fig"
   ]
  },
  {
   "cell_type": "code",
   "execution_count": 21,
   "id": "f5893fa1",
   "metadata": {},
   "outputs": [
    {
     "name": "stdout",
     "output_type": "stream",
     "text": [
      "[[[-2.        ]\n",
      "  [-2.        ]]\n",
      "\n",
      " [[ 0.08      ]\n",
      "  [-0.61333333]]\n",
      "\n",
      " [[ 1.00444444]\n",
      "  [-2.        ]]\n",
      "\n",
      " [[ 1.52213333]\n",
      "  [-1.65487407]]\n",
      "\n",
      " [[ 1.75221728]\n",
      "  [-2.        ]]\n",
      "\n",
      " [[ 1.8810643 ]\n",
      "  [-1.91410199]]\n",
      "\n",
      " [[ 1.93832964]\n",
      "  [-2.        ]]\n",
      "\n",
      " [[ 1.97039822]\n",
      "  [-1.97862094]]\n",
      "\n",
      " [[ 1.98465093]\n",
      "  [-2.        ]]\n",
      "\n",
      " [[ 1.99263245]\n",
      "  [-1.99467899]]\n",
      "\n",
      " [[ 1.99617979]\n",
      "  [-2.        ]]]\n"
     ]
    },
    {
     "data": {
      "image/png": "[encoded data removed]",
      "text/plain": [
       "<Figure size 432x288 with 1 Axes>"
      ]
     },
     "metadata": {
      "needs_background": "light"
     },
     "output_type": "display_data"
    },
    {
     "data": {
      "image/png": "[encoded data removed]",
      "text/plain": [
       "<Figure size 432x288 with 1 Axes>"
      ]
     },
     "execution_count": 21,
     "metadata": {},
     "output_type": "execute_result"
    }
   ],
   "source": [
    "A=np.array([\n",
    "    [3,2],\n",
    "    [2,6]\n",
    "])\n",
    "b=np.array([\n",
    "    [2],\n",
    "    [-8]\n",
    "])\n",
    "x0=np.array([\n",
    "    [-2],\n",
    "    [-2]\n",
    "])\n",
    "\n",
    "\n",
    "x_value=np.zeros(shape=(11,2,1))\n",
    "print(gradientDecent(A,b,x0))\n",
    "draw(x_value)"
   ]
  },
  {
   "cell_type": "code",
   "execution_count": null,
   "id": "e76805af",
   "metadata": {},
   "outputs": [],
   "source": []
  }
 ],
 "metadata": {
  "kernelspec": {
   "display_name": "Python 3",
   "language": "python",
   "name": "python3"
  },
  "language_info": {
   "codemirror_mode": {
    "name": "ipython",
    "version": 3
   },
   "file_extension": ".py",
   "mimetype": "text/x-python",
   "name": "python",
   "nbconvert_exporter": "python",
   "pygments_lexer": "ipython3",
   "version": "3.8.8"
  }
 },
 "nbformat": 4,
 "nbformat_minor": 5
}
